{
 "cells": [
  {
   "cell_type": "code",
   "execution_count": 1,
   "metadata": {},
   "outputs": [],
   "source": [
    "from scipy.stats import norm\n",
    "import random\n",
    "from math import exp, sqrt\n",
    "import datetime\n",
    "import numpy as np\n",
    "\n",
    "def TrinomialTree(isAmerican, isCall, S0, K, r, sigma, T):\n",
    "    N=95\n",
    "    dt = T / N  \n",
    "    u = np.exp(sigma * np.sqrt(2 * dt))\n",
    "    d = np.exp(-1 * sigma * np.sqrt(2 * dt))\n",
    "\n",
    "\n",
    "    pu = ((np.exp(r * dt / 2) - np.exp(-1 * sigma * np.sqrt(dt / 2))) / (np.exp(sigma * np.sqrt(dt / 2)) - np.exp(-1 * sigma * np.sqrt(dt / 2)))) ** 2\n",
    "    pd = ((np.exp(sigma * np.sqrt(dt / 2)) - np.exp(r * dt / 2)) / (np.exp(sigma * np.sqrt(dt / 2)) - np.exp(-1 * sigma * np.sqrt(dt / 2)))) ** 2\n",
    "    pm = 1 - pu - pd\n",
    "\n",
    "    STs = [np.array([S0])]\n",
    "    for i in range(N):\n",
    "        prev_nodes = STs[-1]\n",
    "        ST = np.concatenate(\n",
    "            (prev_nodes * u, [prev_nodes[-1] , prev_nodes[-1] * d]))\n",
    "        STs.append(ST)\n",
    "        \n",
    "        \n",
    "    if isCall:\n",
    "        payoffs = np.maximum(0, (STs[N] - K))\n",
    "    else:\n",
    "        payoffs = np.maximum(0, (K - STs[N]))\n",
    "\n",
    "    for i in reversed(range(N)):\n",
    "        payoffs = (payoffs[:-2] * pu + payoffs[1:-1] * pm + payoffs[2:] * pd) * np.exp(-1 * r * dt)\n",
    "        if isAmerican:\n",
    "            payoffs = np.maximum(payoffs, STs[i] - K)  # Account for early exercise\n",
    "\n",
    "    return payoffs[0]\n",
    "\n",
    "\n",
    "def Vega(isAmerican, isCall, S0, K, r, sigma, T, d=0.01):\n",
    "    return (TrinomialTree(isAmerican, isCall, S0, K, r, sigma + d, T) -\n",
    "            TrinomialTree(isAmerican, isCall, S0, K, r, sigma, T)) / d\n",
    "\n",
    "\n",
    "def find_vol(target_value, isAmerican, isCall, S, K, T, r):\n",
    "    MAX_ITERATIONS = 100\n",
    "    PRECISION = 1.0e-5\n",
    "\n",
    "    sigma = 0.5\n",
    "    for i in range(0, MAX_ITERATIONS):\n",
    "        price = TrinomialTree(isAmerican=isAmerican, isCall=isCall, S0=S, K=K, T=T, r=r, sigma=sigma)\n",
    "        vega = Vega(isAmerican=isAmerican, isCall=isCall, S0=S, K=K, T=T, r=r, sigma=sigma)\n",
    "\n",
    "        diff = price - target_value\n",
    "\n",
    "        if abs(diff) < PRECISION:\n",
    "            return sigma\n",
    "        sigma = sigma - diff / vega\n",
    "    return sigma"
   ]
  },
  {
   "cell_type": "code",
   "execution_count": 2,
   "metadata": {},
   "outputs": [
    {
     "name": "stdout",
     "output_type": "stream",
     "text": [
      "Strike: 310, implied vol: 0.1390\n",
      "Strike: 311, implied vol: 0.1387\n",
      "Strike: 312, implied vol: 0.1369\n",
      "Strike: 313, implied vol: 0.1345\n",
      "Strike: 314, implied vol: 0.1317\n",
      "Strike: 315, implied vol: 0.1294\n",
      "Strike: 316, implied vol: 0.1253\n",
      "Strike: 317, implied vol: 0.1249\n",
      "Strike: 318, implied vol: 0.1222\n",
      "Strike: 319, implied vol: 0.1189\n",
      "Strike: 320, implied vol: 0.1200\n"
     ]
    }
   ],
   "source": [
    "V_market_and_K = ((11.38, 310), (10.85, 311), (10.21, 312), (9.57, 313), (8.91, 314),(8.28, 315), (7.55, 316), (7.13, 317), (6.53, 318), (5.91, 319), (5.65, 320))\n",
    "for (a, b) in V_market_and_K:\n",
    "    vol = find_vol(target_value=a, isAmerican=True, isCall=True, S=311.97, K=b, r=0.0158 - 0.0182, T=0.3695)\n",
    "    print(\"Strike: {0}, implied vol: {1:.4f}\".format(b, vol))"
   ]
  },
  {
   "cell_type": "code",
   "execution_count": null,
   "metadata": {},
   "outputs": [],
   "source": []
  },
  {
   "cell_type": "code",
   "execution_count": null,
   "metadata": {},
   "outputs": [],
   "source": []
  },
  {
   "cell_type": "code",
   "execution_count": null,
   "metadata": {},
   "outputs": [],
   "source": []
  }
 ],
 "metadata": {
  "kernelspec": {
   "display_name": "Python 3",
   "language": "python",
   "name": "python3"
  },
  "language_info": {
   "codemirror_mode": {
    "name": "ipython",
    "version": 3
   },
   "file_extension": ".py",
   "mimetype": "text/x-python",
   "name": "python",
   "nbconvert_exporter": "python",
   "pygments_lexer": "ipython3",
   "version": "3.8.3"
  }
 },
 "nbformat": 4,
 "nbformat_minor": 2
}
