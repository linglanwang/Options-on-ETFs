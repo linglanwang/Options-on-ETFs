{
 "cells": [
  {
   "cell_type": "code",
   "execution_count": 7,
   "metadata": {},
   "outputs": [],
   "source": [
    "from scipy.stats import norm\n",
    "import random\n",
    "from math import exp, sqrt\n",
    "import datetime\n",
    "import numpy as np\n",
    "\n",
    "n = norm.pdf\n",
    "N = norm.cdf\n",
    "\n",
    "\n",
    "def bs_price(cp_flag, S, K, T, r, v, q):\n",
    "    d1 = (np.log(S / K) + (r - q + v * v / 2.) * T) / (v * np.sqrt(T))\n",
    "    d2 = d1 - v * np.sqrt(T)\n",
    "    if cp_flag == 'call':\n",
    "        price = S * np.exp(-q * T) * N(d1) - K * np.exp(-r * T) * N(d2)\n",
    "    else:\n",
    "        price = K * np.exp(-r * T) * N(-d2) - S * np.exp(-q * T) * N(-d1)\n",
    "    return price\n",
    "\n",
    "\n",
    "def bs_vega(cp_flag, S, K, T, r, v, q):\n",
    "    d1 = (np.log(S / K) + (r + v * v / 2.) * T) / (v * np.sqrt(T))\n",
    "    return S * np.sqrt(T) * n(d1)\n",
    "\n",
    "\n",
    "def find_vol(target_value, call_put, S, K, T, r, q):\n",
    "    MAX_ITERATIONS = 1000\n",
    "    PRECISION = 1.0e-5\n",
    "\n",
    "    sigma = 0.5\n",
    "    for i in range(0, MAX_ITERATIONS):\n",
    "        price = bs_price(call_put, S, K, T, r, sigma, q)\n",
    "        vega = bs_vega(call_put, S, K, T, r, sigma,q)\n",
    "\n",
    "        diff = price - target_value\n",
    "\n",
    "        if abs(diff) < PRECISION:\n",
    "            return sigma\n",
    "        sigma = sigma - diff / vega # f(x)/f'(x)\n",
    "    return sigma"
   ]
  },
  {
   "cell_type": "code",
   "execution_count": 2,
   "metadata": {},
   "outputs": [
    {
     "name": "stderr",
     "output_type": "stream",
     "text": [
      "<ipython-input-1-9b6cc837ba44>:39: RuntimeWarning: divide by zero encountered in double_scalars\n",
      "  sigma = sigma - diff / vega # f(x)/f'(x)\n",
      "<ipython-input-1-9b6cc837ba44>:12: RuntimeWarning: invalid value encountered in double_scalars\n",
      "  d1 = (np.log(S / K) + (r - q + v * v / 2.) * T) / (v * np.sqrt(T))\n",
      "<ipython-input-1-9b6cc837ba44>:22: RuntimeWarning: invalid value encountered in double_scalars\n",
      "  d1 = (np.log(S / K) + (r + v * v / 2.) * T) / (v * np.sqrt(T))\n"
     ]
    }
   ],
   "source": [
    "T=60/365\n",
    "S=99.6\n",
    "r=0.003\n",
    "q=0\n",
    "cp='put'\n",
    "implied_vol=find_vol(125,cp,S,99.5,T,r,q)\n"
   ]
  },
  {
   "cell_type": "code",
   "execution_count": 9,
   "metadata": {},
   "outputs": [
    {
     "name": "stdout",
     "output_type": "stream",
     "text": [
      "Strike: 3100\tImplied vol: 13.39%\n",
      "Strike: 3105\tImplied vol: 13.26%\n",
      "Strike: 3110\tImplied vol: 13.14%\n",
      "Strike: 3115\tImplied vol: 13.01%\n",
      "Strike: 3120\tImplied vol: 12.89%\n",
      "Strike: 3125\tImplied vol: 12.78%\n",
      "Strike: 3130\tImplied vol: 12.66%\n",
      "Strike: 3135\tImplied vol: 12.53%\n",
      "Strike: 3140\tImplied vol: 12.42%\n"
     ]
    }
   ],
   "source": [
    "T = 0.25\n",
    "S = 3120\n",
    "r = 0.0402\n",
    "q = 0.036705\n",
    "cp = 'call'  # call option\n",
    "Strike_V_market = ((3100, 94), (3105, 90.6), (3110, 87.3), (3115, 84), (3120, 80.8),(3125, 77.7), (3130, 74.6), (3135, 71.5), (3140, 68.55))\n",
    "\n",
    "for (a, b) in Strike_V_market:\n",
    "    implied_vol = find_vol(b, cp, S, a, T, r, q)\n",
    "    print('Strike: {0}\\tImplied vol: {1:.2f}%'.format(a, implied_vol * 100))"
   ]
  },
  {
   "cell_type": "code",
   "execution_count": null,
   "metadata": {},
   "outputs": [],
   "source": []
  }
 ],
 "metadata": {
  "kernelspec": {
   "display_name": "Python 3",
   "language": "python",
   "name": "python3"
  },
  "language_info": {
   "codemirror_mode": {
    "name": "ipython",
    "version": 3
   },
   "file_extension": ".py",
   "mimetype": "text/x-python",
   "name": "python",
   "nbconvert_exporter": "python",
   "pygments_lexer": "ipython3",
   "version": "3.8.3"
  }
 },
 "nbformat": 4,
 "nbformat_minor": 2
}
